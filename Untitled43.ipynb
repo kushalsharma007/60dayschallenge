{
 "cells": [
  {
   "cell_type": "code",
   "execution_count": 1,
   "id": "f3cf7198-9711-4ef4-a22b-91b803f37d8e",
   "metadata": {},
   "outputs": [],
   "source": [
    "import numpy as np\n",
    "import pandas as pd\n",
    "import matplotlib.pyplot as plt\n",
    "from sklearn.model_selection import train_test_split\n",
    "from sklearn.preprocessing import StandardScaler"
   ]
  },
  {
   "cell_type": "code",
   "execution_count": 7,
   "id": "cf84f059-e641-4415-9349-bfd4bb48d0dd",
   "metadata": {},
   "outputs": [
    {
     "name": "stdout",
     "output_type": "stream",
     "text": [
      "PermissionError: [Errno 13] Permission denied: 'C://Users//Acer//Downloads//FIFA19.csv'\n"
     ]
    }
   ],
   "source": [
    "# Load the FIFA 19 dataset\n",
    "file_path = 'C://Users//Acer//Downloads//FIFA19.csv'\n",
    "\n",
    "# Load the FIFA 19 dataset\n",
    "try:\n",
    "    fifa = pd.read_csv(file_path)\n",
    "except PermissionError as e:\n",
    "    print(f\"PermissionError: {e}\")\n",
    "except FileNotFoundError as e:\n",
    "    print(f\"FileNotFoundError: {e}\")\n",
    "except Exception as e:\n",
    "    print(f\"An error occurred: {e}\")\n",
    "else:\n",
    "    # Display the first few rows of the dataset\n",
    "    print(fifa.head())"
   ]
  },
  {
   "cell_type": "code",
   "execution_count": null,
   "id": "912c0394-156f-45a5-af82-5d6d83d6c0ed",
   "metadata": {},
   "outputs": [],
   "source": []
  }
 ],
 "metadata": {
  "kernelspec": {
   "display_name": "Python 3 (ipykernel)",
   "language": "python",
   "name": "python3"
  },
  "language_info": {
   "codemirror_mode": {
    "name": "ipython",
    "version": 3
   },
   "file_extension": ".py",
   "mimetype": "text/x-python",
   "name": "python",
   "nbconvert_exporter": "python",
   "pygments_lexer": "ipython3",
   "version": "3.10.0"
  }
 },
 "nbformat": 4,
 "nbformat_minor": 5
}
