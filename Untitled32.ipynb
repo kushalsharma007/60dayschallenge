{
 "cells": [
  {
   "cell_type": "code",
   "execution_count": 1,
   "id": "2f142000-33a6-4de4-abf2-2a695e4261ae",
   "metadata": {},
   "outputs": [],
   "source": [
    "import pandas as pd\n",
    "import numpy as np\n",
    "import matplotlib.pyplot as plt\n",
    "from itertools import cycle\n",
    "from sklearn.ensemble import RandomForestClassifier\n",
    "from sklearn.preprocessing import label_binarize\n",
    "from sklearn.metrics import roc_curve, auc\n",
    "from sklearn.model_selection import StratifiedKFold, train_test_split"
   ]
  },
  {
   "cell_type": "code",
   "execution_count": 12,
   "id": "28f8f134-0217-44e7-9176-408fe01dedfa",
   "metadata": {},
   "outputs": [
    {
     "name": "stdout",
     "output_type": "stream",
     "text": [
      "          Date        HomeTeam Result                  AwayTeam\n",
      "0  13-Aug-2021       Brentford    2:0                   Arsenal\n",
      "1  14-Aug-2021         Burnley    1:2  Brighton and Hove Albion\n",
      "2  14-Aug-2021         Chelsea    3:0            Crystal Palace\n",
      "3  14-Aug-2021         Everton    3:1               Southampton\n",
      "4  14-Aug-2021  Leicester City    1:0   Wolverhampton Wanderers\n",
      "      Team  JerseyNo           Player             Position  Apearances  \\\n",
      "0  Arsenal         7      Bukayo Saka  Defender/Midfielder          40   \n",
      "1  Arsenal         6          Gabriel             Defender          37   \n",
      "2  Arsenal        32   Aaron Ramsdale           Goalkeeper          37   \n",
      "3  Arsenal         4        Ben White             Defender          37   \n",
      "4  Arsenal         8  Martin Odegaard           Midfielder          36   \n",
      "\n",
      "   Substitutions  Goals  Penalties  YellowCards  RedCards  \n",
      "0              3     12          2          6.0       0.0  \n",
      "1              1      5          0          7.0       1.0  \n",
      "2              0      0          0          1.0       0.0  \n",
      "3              0      0          0          3.0       0.0  \n",
      "4              4      7          0          4.0       0.0  \n"
     ]
    }
   ],
   "source": [
    "# Load the dataset\n",
    "matches = pd.read_csv('D://jupyter.txt//60dayschallenge//all_match_results.csv')\n",
    "players = pd.read_csv('D://jupyter.txt//60dayschallenge//all_players_stats.csv')\n",
    "# Inspect the datasets\n",
    "print(matches.head())\n",
    "print(players.head())"
   ]
  },
  {
   "cell_type": "code",
   "execution_count": 14,
   "id": "d038a55a-0ad8-4df4-9575-6894f96657e7",
   "metadata": {},
   "outputs": [
    {
     "name": "stdout",
     "output_type": "stream",
     "text": [
      "   Goals_Home  Apearances_Home  YellowCards_Home  RedCards_Home  Goals_Away  \\\n",
      "0          62              484              65.0            3.0          76   \n",
      "1          37              462              72.0            2.0          49   \n",
      "2         119              693              93.0            1.0          60   \n",
      "3          55              484              83.0            7.0          60   \n",
      "4          99              638              81.0            2.0          44   \n",
      "\n",
      "   Apearances_Away  YellowCards_Away  RedCards_Away  \n",
      "0              495              69.0            6.0  \n",
      "1              473              73.0            2.0  \n",
      "2              484              72.0            1.0  \n",
      "3              495              72.0            3.0  \n",
      "4              462              61.0            2.0  \n",
      "0    2\n",
      "1    0\n",
      "2    2\n",
      "3    2\n",
      "4    2\n",
      "Name: Result, dtype: int64\n"
     ]
    }
   ],
   "source": [
    "# Extract relevant columns from matches\n",
    "matches = matches[['Date', 'HomeTeam', 'Result', 'AwayTeam']]\n",
    "\n",
    "# Extract relevant columns from players and calculate team stats\n",
    "team_stats = players.groupby('Team').agg({\n",
    "    'Goals': 'sum',\n",
    "    'Apearances': 'sum',\n",
    "    'YellowCards': 'sum',\n",
    "    'RedCards': 'sum'\n",
    "}).reset_index()\n",
    "\n",
    "# Merge matches with team stats\n",
    "matches = matches.merge(team_stats, left_on='HomeTeam', right_on='Team', how='left')\n",
    "matches = matches.merge(team_stats, left_on='AwayTeam', right_on='Team', how='left', suffixes=('_Home', '_Away'))\n",
    "\n",
    "# Create features and target\n",
    "matches['Result'] = matches['Result'].map(lambda x: 'H' if x.split(':')[0] > x.split(':')[1] else ('A' if x.split(':')[0] < x.split(':')[1] else 'D'))\n",
    "features = matches[['Goals_Home', 'Apearances_Home', 'YellowCards_Home', 'RedCards_Home', \n",
    "                    'Goals_Away', 'Apearances_Away', 'YellowCards_Away', 'RedCards_Away']]\n",
    "labels = matches['Result'].map({'H': 2, 'D': 1, 'A': 0})\n",
    "\n",
    "print(features.head())\n",
    "print(labels.head())\n"
   ]
  },
  {
   "cell_type": "code",
   "execution_count": 15,
   "id": "31cf6c23-1027-4543-a16f-2058285ae98c",
   "metadata": {},
   "outputs": [],
   "source": [
    "# Binarize the labels\n",
    "y = label_binarize(labels, classes=[0, 1, 2])\n",
    "n_classes = y.shape[1]\n",
    "\n",
    "# Shuffle and split the dataset into training and test sets\n",
    "random_state = np.random.RandomState(0)\n",
    "X_train, X_test, y_train, y_test = train_test_split(features, y, test_size=0.5, stratify=y, random_state=random_state)"
   ]
  },
  {
   "cell_type": "code",
   "execution_count": 19,
   "id": "e22a88de-cc07-4490-9d9f-b4ea507a3244",
   "metadata": {},
   "outputs": [],
   "source": [
    "# Convert DataFrames to NumPy arrays\n",
    "X_train = X_train.to_numpy()\n",
    "X_test = X_test.to_numpy()\n",
    "y_train = y_train\n",
    "y_test = y_test\n",
    "\n",
    "# Inside the for loop where the error occurs:\n",
    "for (train, test), color in zip(cv.split(X_train, np.argmax(y_train, axis=1)), colors):\n",
    "    classifier.fit(X_train[train], y_train[train])\n",
    "    y_score = classifier.predict_proba(X_train[test])"
   ]
  },
  {
   "cell_type": "code",
   "execution_count": 22,
   "id": "41d165aa-8080-46d6-b380-b4e3d4861a2b",
   "metadata": {},
   "outputs": [
    {
     "ename": "TypeError",
     "evalue": "list indices must be integers or slices, not tuple",
     "output_type": "error",
     "traceback": [
      "\u001b[1;31m---------------------------------------------------------------------------\u001b[0m",
      "\u001b[1;31mTypeError\u001b[0m                                 Traceback (most recent call last)",
      "Cell \u001b[1;32mIn[22], line 17\u001b[0m\n\u001b[0;32m     14\u001b[0m y_score \u001b[38;5;241m=\u001b[39m classifier\u001b[38;5;241m.\u001b[39mpredict_proba(X_train[test])\n\u001b[0;32m     16\u001b[0m \u001b[38;5;28;01mfor\u001b[39;00m i \u001b[38;5;129;01min\u001b[39;00m \u001b[38;5;28mrange\u001b[39m(n_classes):\n\u001b[1;32m---> 17\u001b[0m     fpr, tpr, _ \u001b[38;5;241m=\u001b[39m roc_curve(y_train[test][:, i], \u001b[43my_score\u001b[49m\u001b[43m[\u001b[49m\u001b[43m:\u001b[49m\u001b[43m,\u001b[49m\u001b[43m \u001b[49m\u001b[43mi\u001b[49m\u001b[43m]\u001b[49m)\n\u001b[0;32m     18\u001b[0m     roc_auc \u001b[38;5;241m=\u001b[39m auc(fpr, tpr)\n\u001b[0;32m     19\u001b[0m     ax\u001b[38;5;241m.\u001b[39mplot(fpr, tpr, lw\u001b[38;5;241m=\u001b[39m\u001b[38;5;241m2\u001b[39m, alpha\u001b[38;5;241m=\u001b[39m\u001b[38;5;241m0.3\u001b[39m, color\u001b[38;5;241m=\u001b[39mcolor, label\u001b[38;5;241m=\u001b[39m\u001b[38;5;124mf\u001b[39m\u001b[38;5;124m'\u001b[39m\u001b[38;5;124mROC fold \u001b[39m\u001b[38;5;132;01m{\u001b[39;00mtrain\u001b[38;5;132;01m}\u001b[39;00m\u001b[38;5;124m class \u001b[39m\u001b[38;5;132;01m{\u001b[39;00mi\u001b[38;5;132;01m}\u001b[39;00m\u001b[38;5;124m (AUC = \u001b[39m\u001b[38;5;132;01m{\u001b[39;00mroc_auc\u001b[38;5;132;01m:\u001b[39;00m\u001b[38;5;124m.2f\u001b[39m\u001b[38;5;132;01m}\u001b[39;00m\u001b[38;5;124m)\u001b[39m\u001b[38;5;124m'\u001b[39m)\n",
      "\u001b[1;31mTypeError\u001b[0m: list indices must be integers or slices, not tuple"
     ]
    },
    {
     "data": {
      "image/png": "[encoded data removed]",
      "text/plain": [
       "<Figure size 1000x800 with 1 Axes>"
      ]
     },
     "metadata": {},
     "output_type": "display_data"
    }
   ],
   "source": [
    "# Initialize the classifier\n",
    "classifier = RandomForestClassifier(n_estimators=100, random_state=random_state)\n",
    "\n",
    "# Run classifier with cross-validation and plot ROC curves\n",
    "cv = StratifiedKFold(n_splits=6)\n",
    "fig, ax = plt.subplots(figsize=(10, 8))\n",
    "\n",
    "mean_fpr = np.linspace(0, 1, 100)\n",
    "tprs = []\n",
    "aucs = []\n",
    "colors = cycle(['aqua', 'darkorange', 'cornflowerblue', 'red', 'green', 'purple'])\n",
    "for (train, test), color in zip(cv.split(X_train, np.argmax(y_train, axis=1)), colors):\n",
    "    classifier.fit(X_train[train], y_train[train])\n",
    "    y_score = classifier.predict_proba(X_train[test])\n",
    "    \n",
    "    for i in range(n_classes):\n",
    "        fpr, tpr, _ = roc_curve(y_train[test][:, i], y_score[:, i])\n",
    "        roc_auc = auc(fpr, tpr)\n",
    "        ax.plot(fpr, tpr, lw=2, alpha=0.3, color=color, label=f'ROC fold {train} class {i} (AUC = {roc_auc:.2f})')\n",
    "        \n",
    "        interp_tpr = np.interp(mean_fpr, fpr, tpr)\n",
    "        interp_tpr[0] = 0.0\n",
    "        tprs.append(interp_tpr)\n",
    "        aucs.append(roc_auc)\n",
    "\n",
    "# Plot the mean ROC curve\n",
    "mean_tpr = np.mean(tprs, axis=0)\n",
    "mean_tpr[-1] = 1.0\n",
    "mean_auc = auc(mean_fpr, mean_tpr)\n",
    "ax.plot(mean_fpr, mean_tpr, color='b', label=r'Mean ROC (AUC = %0.2f)' % mean_auc, lw=2, alpha=0.8)\n",
    "\n",
    "# Plot the chance line\n",
    "ax.plot([0, 1], [0, 1], linestyle='--', lw=2, color='r', alpha=.8)\n",
    "\n",
    "# Axis labels and title\n",
    "ax.set_xlim([-0.05, 1.05])\n",
    "ax.set_ylim([-0.05, 1.05])\n",
    "ax.set_xlabel('False Positive Rate')\n",
    "ax.set_ylabel('True Positive Rate')\n",
    "ax.set_title('ROC Curve with Cross-Validation (Random Forest)')\n",
    "ax.legend(loc=\"lower right\")\n",
    "\n",
    "# Display the plot\n",
    "plt.show()"
   ]
  },
  {
   "cell_type": "code",
   "execution_count": null,
   "id": "b0c59545-813d-41c3-acab-708133972b43",
   "metadata": {},
   "outputs": [],
   "source": []
  }
 ],
 "metadata": {
  "kernelspec": {
   "display_name": "Python 3 (ipykernel)",
   "language": "python",
   "name": "python3"
  },
  "language_info": {
   "codemirror_mode": {
    "name": "ipython",
    "version": 3
   },
   "file_extension": ".py",
   "mimetype": "text/x-python",
   "name": "python",
   "nbconvert_exporter": "python",
   "pygments_lexer": "ipython3",
   "version": "3.10.0"
  }
 },
 "nbformat": 4,
 "nbformat_minor": 5
}
